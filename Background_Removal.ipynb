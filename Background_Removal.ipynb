{
 "cells": [
  {
   "cell_type": "code",
   "execution_count": 1,
   "metadata": {
    "scrolled": true
   },
   "outputs": [
    {
     "name": "stdout",
     "output_type": "stream",
     "text": [
      "Using matplotlib backend: Qt5Agg\n"
     ]
    }
   ],
   "source": [
    "%matplotlib auto"
   ]
  },
  {
   "cell_type": "code",
   "execution_count": 137,
   "metadata": {},
   "outputs": [
    {
     "data": {
      "text/plain": [
       "True"
      ]
     },
     "execution_count": 137,
     "metadata": {},
     "output_type": "execute_result"
    }
   ],
   "source": [
    "import cv2\n",
    "import numpy as np\n",
    "\n",
    "# parameters\n",
    "MASK_COLOR = (0.0,0.0,1.0)\n",
    "\n",
    "# Read Image\n",
    "img = cv2.imread('image22.png')\n",
    "gray = cv2.cvtColor(img, cv2.COLOR_BGR2GRAY)\n",
    "\n",
    "# Edge detection\n",
    "edges = cv2.Canny(gray, 10, 200)\n",
    "img_dilation = cv2.dilate(edges, None)\n",
    "img_erosion = cv2.erode(img_dilation, None)\n",
    "\n",
    "# Find contours in edges\n",
    "contour_info = []\n",
    "contours, _ = cv2.findContours(edges, cv2.RETR_LIST, cv2.CHAIN_APPROX_NONE)\n",
    "for c in contours:\n",
    "    contour_info.append((\n",
    "        c,\n",
    "        cv2.isContourConvex(c),\n",
    "        cv2.contourArea(c),\n",
    "    ))\n",
    "contour_info = sorted(contour_info, key=lambda c:c[2], reverse=True)\n",
    "max_counter = contour_info[0]\n",
    "\n",
    "mask = np.zeros(img_erosion.shape)\n",
    "cv2.fillConvexPoly(mask, max_contour[0], 255)\n",
    "\n",
    "mask = cv2.dilate(mask, None, iterations=60)\n",
    "# cv2.imshow('img',mask)\n",
    "mask = cv2.erode(mask, None, iterations=20)\n",
    "# cv2.imshow('img',mask)\n",
    "mask = cv2.GaussianBlur(mask, (21,21), 0)\n",
    "# cv2.imshow('img',mask)\n",
    "mask_stack = np.dstack([mask]*3)\n",
    "\n",
    "mask_stack  = mask_stack.astype('float32') / 255.0         \n",
    "img         = img.astype('float32') / 255.0    \n",
    "masked = (mask_stack * img) + ((1-mask_stack) * MASK_COLOR)  \n",
    "masked = (masked * 255).astype('uint8')                    \n",
    "\n",
    "cv2.imshow('img', masked)                                   # Display\n",
    "cv2.waitKey()\n",
    "cv2.imwrite(\"WTFg.jpg\",masked)"
   ]
  },
  {
   "cell_type": "code",
   "execution_count": null,
   "metadata": {},
   "outputs": [],
   "source": []
  }
 ],
 "metadata": {
  "kernelspec": {
   "display_name": "Python 3",
   "language": "python",
   "name": "python3"
  },
  "language_info": {
   "codemirror_mode": {
    "name": "ipython",
    "version": 3
   },
   "file_extension": ".py",
   "mimetype": "text/x-python",
   "name": "python",
   "nbconvert_exporter": "python",
   "pygments_lexer": "ipython3",
   "version": "3.8.3"
  }
 },
 "nbformat": 4,
 "nbformat_minor": 4
}
